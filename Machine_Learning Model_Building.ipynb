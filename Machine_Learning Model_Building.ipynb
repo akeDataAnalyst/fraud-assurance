{
 "cells": [
  {
   "cell_type": "markdown",
   "id": "7e0eb860-e5bd-494a-a5c7-2017f7ef0c03",
   "metadata": {},
   "source": [
    "#### Machine Learning Model Building"
   ]
  },
  {
   "cell_type": "code",
   "execution_count": 16,
   "id": "1d83c1e8-1a32-459e-a3b0-22bf4cb401ee",
   "metadata": {},
   "outputs": [],
   "source": [
    "import pandas as pd\n",
    "import numpy as np\n",
    "from sklearn.model_selection import train_test_split\n",
    "from sklearn.preprocessing import StandardScaler\n",
    "from sklearn.linear_model import LogisticRegression\n",
    "from sklearn.metrics import classification_report, roc_auc_score, confusion_matrix\n",
    "from imblearn.metrics import geometric_mean_score \n",
    "\n",
    "# Load the FINAL enriched dataset\n",
    "df = pd.read_csv('safaricom_ethiopia_dfs_enriched_data_V10_final.csv')"
   ]
  },
  {
   "cell_type": "code",
   "execution_count": 17,
   "id": "a0b03f6c-d5b7-4d6b-ade6-23487391c069",
   "metadata": {},
   "outputs": [],
   "source": [
    "# We use all assurance, regional, and engineered features\n",
    "FEATURES = [\n",
    "    'Amount_ETB', 'System_Fee_ETB', 'Is_Cross_Region',\n",
    "    'Sender_Region', 'Receiver_Region', 'Transaction_Type',\n",
    "    'Billing_System_Status',\n",
    "    'Txn_Count_Sender_1H', 'Agent_Cust_Pair_Count_7D', 'Is_Night_Time_Txn'\n",
    "]\n",
    "TARGET = 'Is_Fraud'\n",
    "\n",
    "X = df[FEATURES].copy()\n",
    "y = df[TARGET]"
   ]
  },
  {
   "cell_type": "code",
   "execution_count": 18,
   "id": "f0be1996-9898-481c-b545-21da0e1948f5",
   "metadata": {},
   "outputs": [],
   "source": [
    "# 2. One-Hot Encoding for Categorical Variables\n",
    "# Use pandas get_dummies to encode categorical columns\n",
    "X = pd.get_dummies(X, columns=['Sender_Region', 'Receiver_Region', 'Transaction_Type', 'Billing_System_Status'], drop_first=True)"
   ]
  },
  {
   "cell_type": "code",
   "execution_count": 19,
   "id": "9f443e41-301c-402d-90ff-169a971c234a",
   "metadata": {},
   "outputs": [],
   "source": [
    "# 3. Split Data into Training and Testing Sets\n",
    "X_train, X_test, y_train, y_test = train_test_split(\n",
    "    X, y,\n",
    "    test_size=0.3,\n",
    "    random_state=42,\n",
    "    stratify=y  # ESSENTIAL: Ensures both sets have the same fraud ratio\n",
    ")"
   ]
  },
  {
   "cell_type": "code",
   "execution_count": 20,
   "id": "d78864be-27eb-43ee-9c1a-1e603e05a98e",
   "metadata": {},
   "outputs": [
    {
     "name": "stdout",
     "output_type": "stream",
     "text": [
      "Data Preparation Complete \n",
      "Training set shape: (70000, 17)\n",
      "Test set shape: (30000, 17)\n"
     ]
    }
   ],
   "source": [
    "# 4. Scaling Numerical Features\n",
    "# Scale only the continuous numerical features\n",
    "numerical_cols = ['Amount_ETB', 'System_Fee_ETB', 'Txn_Count_Sender_1H', 'Agent_Cust_Pair_Count_7D']\n",
    "scaler = StandardScaler()\n",
    "\n",
    "# Fit scaler only on the training data and transform both sets\n",
    "X_train[numerical_cols] = scaler.fit_transform(X_train[numerical_cols])\n",
    "X_test[numerical_cols] = scaler.transform(X_test[numerical_cols])\n",
    "\n",
    "print(\"Data Preparation Complete \")\n",
    "print(f\"Training set shape: {X_train.shape}\")\n",
    "print(f\"Test set shape: {X_test.shape}\")"
   ]
  },
  {
   "cell_type": "code",
   "execution_count": 21,
   "id": "79425341-db1c-4e02-9eb7-032c1bee41a7",
   "metadata": {},
   "outputs": [
    {
     "name": "stdout",
     "output_type": "stream",
     "text": [
      "\n",
      " Model Training Started\n",
      "Model Training Complete\n"
     ]
    }
   ],
   "source": [
    "# 1. Initialize and Train Logistic Regression Model\n",
    "from sklearn.linear_model import LogisticRegression\n",
    "# Assuming X_train, y_train, X_test, y_test are in memory from the previous step\n",
    "# from imblearn.metrics import geometric_mean_score \n",
    "from sklearn.metrics import classification_report, roc_auc_score, confusion_matrix\n",
    "import pandas as pd\n",
    "import numpy as np\n",
    "from imblearn.metrics import geometric_mean_score \n",
    "\n",
    "model = LogisticRegression(\n",
    "    solver='liblinear',\n",
    "    random_state=42,\n",
    "    class_weight='balanced'  # IMPORTANT: Automatically applies higher weight to the fraud class\n",
    ")\n",
    "\n",
    "print(\"\\n Model Training Started\")\n",
    "model.fit(X_train, y_train)\n",
    "print(\"Model Training Complete\")"
   ]
  },
  {
   "cell_type": "code",
   "execution_count": 22,
   "id": "4ea4125d-1256-4347-ab06-ad3d6c6a033b",
   "metadata": {},
   "outputs": [],
   "source": [
    "# 2. Predict and Evaluate\n",
    "y_pred = model.predict(X_test)\n",
    "y_proba = model.predict_proba(X_test)[:, 1] # Probability of being the positive class (Fraud)"
   ]
  },
  {
   "cell_type": "code",
   "execution_count": 23,
   "id": "e09e7221-6f2f-45b1-bd1e-22c5a63c2d12",
   "metadata": {},
   "outputs": [
    {
     "name": "stdout",
     "output_type": "stream",
     "text": [
      "Model Performance Metrics\n",
      "\n",
      "Confusion Matrix:\n",
      "[[27556  2203]\n",
      " [    3   238]]\n",
      "True Positives (Fraud Correctly Caught, TP): 238\n",
      "False Positives (Good Txns Flagged as Fraud, FP): 2203\n",
      "False Negatives (Fraud Missed, FN): 3 <--- CRITICAL\n",
      "True Negatives (Good Txns Correctly Allowed, TN): 27556\n",
      "\n",
      "Classification Report (Focus on 'Fraud' row):\n",
      "              precision    recall  f1-score   support\n",
      "\n",
      "   Not Fraud       1.00      0.93      0.96     29759\n",
      "       Fraud       0.10      0.99      0.18       241\n",
      "\n",
      "    accuracy                           0.93     30000\n",
      "   macro avg       0.55      0.96      0.57     30000\n",
      "weighted avg       0.99      0.93      0.96     30000\n",
      "\n",
      "AUC-ROC Score (Overall Discriminative Power): 0.9805\n",
      "Geometric Mean (Balance of Class Accuracy): 0.9563\n"
     ]
    }
   ],
   "source": [
    "# 3. Performance Metrics (Focusing on the Minority Class)\n",
    "print(\"Model Performance Metrics\")\n",
    "\n",
    "# A. Confusion Matrix (Directly shows True Positives/Negatives)\n",
    "cm = confusion_matrix(y_test, y_pred)\n",
    "tn, fp, fn, tp = cm.ravel()\n",
    "\n",
    "print(f\"\\nConfusion Matrix:\\n{cm}\")\n",
    "print(f\"True Positives (Fraud Correctly Caught, TP): {tp}\")\n",
    "print(f\"False Positives (Good Txns Flagged as Fraud, FP): {fp}\")\n",
    "print(f\"False Negatives (Fraud Missed, FN): {fn} <--- CRITICAL\")\n",
    "print(f\"True Negatives (Good Txns Correctly Allowed, TN): {tn}\")\n",
    "\n",
    "# B. Classification Report (Precision, Recall, F1-Score)\n",
    "print(\"\\nClassification Report (Focus on 'Fraud' row):\")\n",
    "# Note: Ensure the target names match the order of classes (0=Not Fraud, 1=Fraud)\n",
    "print(classification_report(y_test, y_pred, target_names=['Not Fraud', 'Fraud']))\n",
    "\n",
    "# C. Summary Metrics\n",
    "auc_roc = roc_auc_score(y_test, y_proba)\n",
    "gmean = geometric_mean_score(y_test, y_pred) # G-Mean: Balance of performance across both classes\n",
    "\n",
    "print(f\"AUC-ROC Score (Overall Discriminative Power): {auc_roc:.4f}\")\n",
    "print(f\"Geometric Mean (Balance of Class Accuracy): {gmean:.4f}\")"
   ]
  },
  {
   "cell_type": "code",
   "execution_count": 24,
   "id": "f9a7a43d-2395-46d9-81f1-38ced3f254ab",
   "metadata": {},
   "outputs": [
    {
     "name": "stdout",
     "output_type": "stream",
     "text": [
      " Actionable Model Interpretation (Odds Ratio)\n",
      "Feature Odds Ratio (Impact on Fraud Likelihood):\n",
      "(Higher ratio means a greater increase in the odds of being fraud)\n",
      "\n",
      "Transaction_Type_P2P_Transfer        13249.662\n",
      "Amount_ETB                               4.216\n",
      "System_Fee_ETB                           4.149\n",
      "Billing_System_Status_TIMEOUT            1.515\n",
      "Transaction_Type_Agent_Cash_Out          1.427\n",
      "Receiver_Region_Oromia                   1.175\n",
      "Is_Cross_Region                          1.073\n",
      "Txn_Count_Sender_1H                      1.056\n",
      "Is_Night_Time_Txn                        0.973\n",
      "Agent_Cust_Pair_Count_7D                 0.931\n",
      "Receiver_Region_South Ethiopia           0.722\n",
      "Sender_Region_South Ethiopia             0.025\n",
      "Sender_Region_Oromia                     0.020\n",
      "Transaction_Type_Airtime_Purchase        0.005\n",
      "Transaction_Type_Bill_Payment            0.001\n",
      "dtype: float64\n"
     ]
    }
   ],
   "source": [
    "# Extract feature importance (coefficients from the Logistic Regression model)\n",
    "coefficients = pd.Series(model.coef_[0], index=X_train.columns)\n",
    "\n",
    "# Convert coefficients to Odds Ratio (exp(coefficient))\n",
    "# An Odds Ratio of 2.0 means the odds of fraud double when this feature increases by one unit (or is present).\n",
    "odds_ratios = np.exp(coefficients).sort_values(ascending=False)\n",
    "\n",
    "print(\" Actionable Model Interpretation (Odds Ratio)\")\n",
    "print(\"Feature Odds Ratio (Impact on Fraud Likelihood):\\n(Higher ratio means a greater increase in the odds of being fraud)\\n\")\n",
    "print(odds_ratios.head(15).round(3))"
   ]
  },
  {
   "cell_type": "markdown",
   "id": "3e9f0a5f-564a-43f9-8adc-2fa135ca6b8b",
   "metadata": {},
   "source": [
    "#### Deployment and Monitoring"
   ]
  },
  {
   "cell_type": "code",
   "execution_count": 25,
   "id": "c854bf18-0abc-426e-a6b7-ddb042dcc410",
   "metadata": {},
   "outputs": [
    {
     "name": "stdout",
     "output_type": "stream",
     "text": [
      "Model saved as: logistic_regression_fraud_model.joblib\n",
      "Scaler saved as: standard_scaler.jobjob\n",
      "\n",
      "Simulation: Scoring a New Transaction\n",
      "\n",
      "Hypothetical Transaction Features:\n",
      "   Amount_ETB  System_Fee_ETB  Is_Cross_Region Sender_Region Receiver_Region  \\\n",
      "0      4800.0            96.0                0   Addis Ababa     Addis Ababa   \n",
      "\n",
      "  Transaction_Type Billing_System_Status  Txn_Count_Sender_1H  \\\n",
      "0     P2P_Transfer               SUCCESS                    5   \n",
      "\n",
      "   Agent_Cust_Pair_Count_7D  Is_Night_Time_Txn  \n",
      "0                         0                  1  \n",
      "\n",
      "Predicted Fraud Risk Score (Probability): 0.9992\n",
      "Action: **ROUTE TO ANALYST REVIEW QUEUE**\n"
     ]
    }
   ],
   "source": [
    "import joblib\n",
    "\n",
    "# Define filenames\n",
    "MODEL_FILENAME = 'logistic_regression_fraud_model.joblib'\n",
    "SCALER_FILENAME = 'standard_scaler.jobjob'\n",
    "\n",
    "# Save the trained model\n",
    "joblib.dump(model, MODEL_FILENAME)\n",
    "print(f\"Model saved as: {MODEL_FILENAME}\")\n",
    "\n",
    "# Save the fitted scaler (essential for processing new data)\n",
    "joblib.dump(scaler, SCALER_FILENAME)\n",
    "print(f\"Scaler saved as: {SCALER_FILENAME}\")\n",
    "\n",
    "# --- Simulation of Loading and Scoring New Data ---\n",
    "print(\"\\nSimulation: Scoring a New Transaction\")\n",
    "# Example of new data (a hypothetical high-risk P2P transaction in Addis Ababa)\n",
    "new_data = pd.DataFrame({\n",
    "    'Amount_ETB': [4800.0],\n",
    "    'System_Fee_ETB': [96.0],\n",
    "    'Is_Cross_Region': [0],\n",
    "    'Sender_Region': ['Addis Ababa'],\n",
    "    'Receiver_Region': ['Addis Ababa'],\n",
    "    'Transaction_Type': ['P2P_Transfer'],\n",
    "    'Billing_System_Status': ['SUCCESS'],\n",
    "    'Txn_Count_Sender_1H': [5], # High velocity\n",
    "    'Agent_Cust_Pair_Count_7D': [0],\n",
    "    'Is_Night_Time_Txn': [1] # Night time\n",
    "})\n",
    "\n",
    "# 1. Apply One-Hot Encoding (must align with training columns)\n",
    "new_X = pd.get_dummies(new_data, columns=['Sender_Region', 'Receiver_Region', 'Transaction_Type', 'Billing_System_Status'])\n",
    "\n",
    "# 2. Re-align columns to match the training data (critical step)\n",
    "missing_cols = set(X_train.columns) - set(new_X.columns)\n",
    "for col in missing_cols:\n",
    "    new_X[col] = 0\n",
    "new_X = new_X[X_train.columns] # Ensure same order\n",
    "\n",
    "# 3. Scale the numerical features\n",
    "numerical_cols = ['Amount_ETB', 'System_Fee_ETB', 'Txn_Count_Sender_1H', 'Agent_Cust_Pair_Count_7D']\n",
    "new_X[numerical_cols] = scaler.transform(new_X[numerical_cols])\n",
    "\n",
    "# 4. Predict\n",
    "risk_score = model.predict_proba(new_X)[:, 1][0]\n",
    "\n",
    "print(f\"\\nHypothetical Transaction Features:\")\n",
    "print(new_data)\n",
    "print(f\"\\nPredicted Fraud Risk Score (Probability): {risk_score:.4f}\")\n",
    "if risk_score > 0.5:\n",
    "    print(\"Action: **ROUTE TO ANALYST REVIEW QUEUE**\")\n",
    "else:\n",
    "    print(\"Action: ALLOW (Low Risk)\")"
   ]
  },
  {
   "cell_type": "code",
   "execution_count": null,
   "id": "77d07d78-79bd-40d9-8c02-da615aee023c",
   "metadata": {},
   "outputs": [],
   "source": []
  }
 ],
 "metadata": {
  "kernelspec": {
   "display_name": "Python 3 (ipykernel)",
   "language": "python",
   "name": "python3"
  },
  "language_info": {
   "codemirror_mode": {
    "name": "ipython",
    "version": 3
   },
   "file_extension": ".py",
   "mimetype": "text/x-python",
   "name": "python",
   "nbconvert_exporter": "python",
   "pygments_lexer": "ipython3",
   "version": "3.11.4"
  }
 },
 "nbformat": 4,
 "nbformat_minor": 5
}
