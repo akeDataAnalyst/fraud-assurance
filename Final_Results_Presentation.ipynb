{
 "cells": [
  {
   "cell_type": "code",
   "execution_count": 3,
   "id": "2b8b067e-9a1a-45da-852e-a1083b76ba7f",
   "metadata": {},
   "outputs": [
    {
     "data": {
      "text/markdown": [
       "## 1. Model Performance Summary"
      ],
      "text/plain": [
       "<IPython.core.display.Markdown object>"
      ]
     },
     "metadata": {},
     "output_type": "display_data"
    },
    {
     "name": "stdout",
     "output_type": "stream",
     "text": [
      "---------------------------------------------------------------------------------\n"
     ]
    },
    {
     "data": {
      "text/markdown": [
       "| Metric                  | Score   | Target               | Interpretation                                                     |\n",
       "|:------------------------|:--------|:---------------------|:-------------------------------------------------------------------|\n",
       "| AUC-ROC                 | 0.9805  | ↑ (Excellent)        | Excellent overall discriminative power.                            |\n",
       "| Geometric Mean (G-Mean) | 0.9563  | ↑ (Strong Balance)   | Strong balance between performance on fraud and non-fraud cases.   |\n",
       "| Recall (Fraud)          | 0.9876  | ≈ 1.0 (Critical)     | Near-Perfect: Detected 98.76% of all fraud/leakage cases.          |\n",
       "| False Negatives (FN)    | 3       | ≈ 0                  | Only 3 out of 241 fraud cases were missed (Goal Achieved).         |\n",
       "| False Positives (FP)    | 2,203   | ↓ (Operational Cost) | High operational cost: 90% of all flagged transactions were clean. |"
      ],
      "text/plain": [
       "<IPython.core.display.Markdown object>"
      ]
     },
     "metadata": {},
     "output_type": "display_data"
    },
    {
     "data": {
      "text/markdown": [
       "\n",
       "## 2. Operational Strategy"
      ],
      "text/plain": [
       "<IPython.core.display.Markdown object>"
      ]
     },
     "metadata": {},
     "output_type": "display_data"
    },
    {
     "name": "stdout",
     "output_type": "stream",
     "text": [
      "---------------------------------------------------------------------------------\n"
     ]
    },
    {
     "data": {
      "text/markdown": [
       "| Component      | Strategy                                                                                                        | Rationale                                                                                |\n",
       "|:---------------|:----------------------------------------------------------------------------------------------------------------|:-----------------------------------------------------------------------------------------|\n",
       "| Alert Action   | Manual Review Queue. Do NOT auto-block transactions.                                                            | The 99% Recall is worth the operational cost of managing the high FP volume (2,203 FPs). |\n",
       "| Priority Shift | Assurance priority shifts from pattern discovery to efficient False Positive filtering within the review queue. | The model flags everything; analysts must quickly clear the benign alerts.               |"
      ],
      "text/plain": [
       "<IPython.core.display.Markdown object>"
      ]
     },
     "metadata": {},
     "output_type": "display_data"
    },
    {
     "data": {
      "text/markdown": [
       "\n",
       "## 3. Actionable Business Insights (Odds Ratio Analysis)"
      ],
      "text/plain": [
       "<IPython.core.display.Markdown object>"
      ]
     },
     "metadata": {},
     "output_type": "display_data"
    },
    {
     "name": "stdout",
     "output_type": "stream",
     "text": [
      "---------------------------------------------------------------------------------\n"
     ]
    },
    {
     "data": {
      "text/markdown": [
       "|    | Feature                           | Odds Ratio   | Impact on Fraud Likelihood                                                         | Strategic Business Action                        |\n",
       "|:---|:----------------------------------|:-------------|:-----------------------------------------------------------------------------------|:-------------------------------------------------|\n",
       "| 0  | Transaction_Type_P2P_Transfer     | 13249.662    | Extreme Risk: Odds of fraud are over 13,000x higher in this channel.               | Implement Strict Controls (2FA, Velocity Limits) |\n",
       "| 1  | Amount_ETB                        | 4.216        | High-Value Indicator: 4.2x increase in odds for every standard deviation increase. | Standard Monitoring/Low Priority                 |\n",
       "| 2  | System_Fee_ETB                    | 4.149        | High-Value Indicator (correlates with Amount).                                     | Standard Monitoring/Low Priority                 |\n",
       "| 3  | Billing_System_Status_TIMEOUT     | 1.515        | System Leakage: 51.5% increase in odds of leakage/fraud.                           | Engineering Priority (Investigate Root Cause)    |\n",
       "| 4  | Transaction_Type_Agent_Cash_Out   | 1.427        | High-Risk Channel: 42.7% more likely to be fraudulent.                             | Audit Agent Network/Targeted Training            |\n",
       "| 5  | Receiver_Region_Oromia            | 1.175        | Geographic Risk: 17.5% more likely to be fraudulent.                               | Audit Agent Network/Targeted Training            |\n",
       "| 6  | Is_Cross_Region                   | 1.073        | Slight Mobility Risk: 7.3% higher risk.                                            | Standard Monitoring/Low Priority                 |\n",
       "| 7  | Txn_Count_Sender_1H               | 1.056        | Velocity Indicator: 5.6% increase in odds of fraud.                                | Standard Monitoring/Low Priority                 |\n",
       "| 8  | Agent_Cust_Pair_Count_7D          | 0.931        | Slightly Decreases Odds (Unexpected finding).                                      | Standard Monitoring/Low Priority                 |\n",
       "| 9  | Receiver_Region_South Ethiopia    | 0.722        | Low Risk.                                                                          | Standard Monitoring/Low Priority                 |\n",
       "| 10 | Sender_Region_South Ethiopia      | 0.025        | Major Safety Indicator (Low risk for current fraud profile).                       | Standard Monitoring/Low Priority                 |\n",
       "| 11 | Sender_Region_Oromia              | 0.020        | Major Safety Indicator (Low risk for current fraud profile).                       | Standard Monitoring/Low Priority                 |\n",
       "| 12 | Transaction_Type_Airtime_Purchase | 0.005        | Very Low Risk.                                                                     | Standard Monitoring/Low Priority                 |\n",
       "| 13 | Transaction_Type_Bill_Payment     | 0.001        | Very Low Risk.                                                                     | Standard Monitoring/Low Priority                 |"
      ],
      "text/plain": [
       "<IPython.core.display.Markdown object>"
      ]
     },
     "metadata": {},
     "output_type": "display_data"
    },
    {
     "name": "stdout",
     "output_type": "stream",
     "text": [
      "\n",
      "Odds Ratio Analysis successfully exported to final_odds_ratio_analysis.csv\n"
     ]
    }
   ],
   "source": [
    "import pandas as pd\n",
    "import numpy as np\n",
    "from IPython.display import display, Markdown\n",
    "\n",
    "# 1. Model Performance Summary Table\n",
    "display(Markdown(\"## 1. Model Performance Summary\"))\n",
    "print(\"---------------------------------------------------------------------------------\")\n",
    "\n",
    "# Data is pulled directly from the final metrics\n",
    "performance_data = {\n",
    "    'Metric': ['AUC-ROC', 'Geometric Mean (G-Mean)', 'Recall (Fraud)', 'False Negatives (FN)', 'False Positives (FP)'],\n",
    "    'Score': ['0.9805', '0.9563', '0.9876', '3', '2,203'],\n",
    "    'Target': ['↑ (Excellent)', '↑ (Strong Balance)', '≈ 1.0 (Critical)', '≈ 0', '↓ (Operational Cost)'],\n",
    "    'Interpretation': ['Excellent overall discriminative power.',\n",
    "                       'Strong balance between performance on fraud and non-fraud cases.',\n",
    "                       'Near-Perfect: Detected 98.76% of all fraud/leakage cases.',\n",
    "                       'Only 3 out of 241 fraud cases were missed (Goal Achieved).',\n",
    "                       'High operational cost: 90% of all flagged transactions were clean.'],\n",
    "}\n",
    "df_performance = pd.DataFrame(performance_data)\n",
    "# Display the table using markdown format\n",
    "display(Markdown(df_performance.to_markdown(index=False, numalign=\"left\", stralign=\"left\")))\n",
    "\n",
    "# --- 2. Operational Strategy Table ---\n",
    "display(Markdown(\"\\n## 2. Operational Strategy\"))\n",
    "print(\"---------------------------------------------------------------------------------\")\n",
    "\n",
    "operational_data = {\n",
    "    'Component': ['Alert Action', 'Priority Shift'],\n",
    "    'Strategy': ['Manual Review Queue. Do NOT auto-block transactions.',\n",
    "                 'Assurance priority shifts from pattern discovery to efficient False Positive filtering within the review queue.'],\n",
    "    'Rationale': ['The 99% Recall is worth the operational cost of managing the high FP volume (2,203 FPs).',\n",
    "                  'The model flags everything; analysts must quickly clear the benign alerts.'],\n",
    "}\n",
    "df_operational = pd.DataFrame(operational_data)\n",
    "display(Markdown(df_operational.to_markdown(index=False, numalign=\"left\", stralign=\"left\")))\n",
    "\n",
    "# --- 3. Actionable Business Insights (Odds Ratio Analysis) Table ---\n",
    "display(Markdown(\"\\n## 3. Actionable Business Insights (Odds Ratio Analysis)\"))\n",
    "print(\"---------------------------------------------------------------------------------\")\n",
    "\n",
    "# Use the actual Odds Ratio output provided (Note: Using full float values for accuracy before display)\n",
    "odds_ratio_data = {\n",
    "    'Feature': [\n",
    "        'Transaction_Type_P2P_Transfer', 'Amount_ETB', 'System_Fee_ETB', 'Billing_System_Status_TIMEOUT',\n",
    "        'Transaction_Type_Agent_Cash_Out', 'Receiver_Region_Oromia', 'Is_Cross_Region',\n",
    "        'Txn_Count_Sender_1H', 'Agent_Cust_Pair_Count_7D', 'Receiver_Region_South Ethiopia',\n",
    "        'Sender_Region_South Ethiopia', 'Sender_Region_Oromia', 'Transaction_Type_Airtime_Purchase',\n",
    "        'Transaction_Type_Bill_Payment'\n",
    "    ],\n",
    "    'Odds Ratio': [\n",
    "        13249.662, 4.216, 4.149, 1.515, 1.427, 1.175, 1.073, 1.056,\n",
    "        0.931, 0.722, 0.025, 0.020, 0.005, 0.001\n",
    "    ],\n",
    "    'Impact on Fraud Likelihood': [\n",
    "        'Extreme Risk: Odds of fraud are over 13,000x higher in this channel.',\n",
    "        'High-Value Indicator: 4.2x increase in odds for every standard deviation increase.',\n",
    "        'High-Value Indicator (correlates with Amount).',\n",
    "        'System Leakage: 51.5% increase in odds of leakage/fraud.',\n",
    "        'High-Risk Channel: 42.7% more likely to be fraudulent.',\n",
    "        'Geographic Risk: 17.5% more likely to be fraudulent.',\n",
    "        'Slight Mobility Risk: 7.3% higher risk.',\n",
    "        'Velocity Indicator: 5.6% increase in odds of fraud.',\n",
    "        'Slightly Decreases Odds (Unexpected finding).',\n",
    "        'Low Risk.', 'Major Safety Indicator (Low risk for current fraud profile).',\n",
    "        'Major Safety Indicator (Low risk for current fraud profile).', 'Very Low Risk.',\n",
    "        'Very Low Risk.'\n",
    "    ],\n",
    "}\n",
    "df_odds_ratio = pd.DataFrame(odds_ratio_data)\n",
    "df_odds_ratio = df_odds_ratio.sort_values(by='Odds Ratio', ascending=False).reset_index(drop=True)\n",
    "\n",
    "# Add the Strategic Business Action column\n",
    "df_odds_ratio['Strategic Business Action'] = df_odds_ratio.apply(\n",
    "    lambda row: \"Implement Strict Controls (2FA, Velocity Limits)\" if row['Odds Ratio'] > 1000\n",
    "    else (\"Engineering Priority (Investigate Root Cause)\" if row['Feature'] == 'Billing_System_Status_TIMEOUT'\n",
    "    else (\"Audit Agent Network/Targeted Training\" if row['Feature'] in ['Transaction_Type_Agent_Cash_Out', 'Receiver_Region_Oromia']\n",
    "    else \"Standard Monitoring/Low Priority\")),\n",
    "    axis=1\n",
    ")\n",
    "\n",
    "display(Markdown(df_odds_ratio.to_markdown(index=True, floatfmt=\".3f\", numalign=\"left\", stralign=\"left\")))\n",
    "\n",
    "# 4. Export Odds Ratio Data to CSV\n",
    "CSV_FILE_NAME = 'final_odds_ratio_analysis.csv'\n",
    "df_odds_ratio.to_csv(CSV_FILE_NAME, index=False)\n",
    "print(f\"\\nOdds Ratio Analysis successfully exported to {CSV_FILE_NAME}\")"
   ]
  },
  {
   "cell_type": "code",
   "execution_count": null,
   "id": "227afa64-e41e-4a6f-aab1-ca1969b8fcee",
   "metadata": {},
   "outputs": [],
   "source": []
  }
 ],
 "metadata": {
  "kernelspec": {
   "display_name": "Python 3 (ipykernel)",
   "language": "python",
   "name": "python3"
  },
  "language_info": {
   "codemirror_mode": {
    "name": "ipython",
    "version": 3
   },
   "file_extension": ".py",
   "mimetype": "text/x-python",
   "name": "python",
   "nbconvert_exporter": "python",
   "pygments_lexer": "ipython3",
   "version": "3.11.4"
  }
 },
 "nbformat": 4,
 "nbformat_minor": 5
}
