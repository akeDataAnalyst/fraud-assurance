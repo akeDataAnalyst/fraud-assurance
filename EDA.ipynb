{
 "cells": [
  {
   "cell_type": "markdown",
   "id": "26da89ac-82e0-4c5e-b0be-6c3263803dda",
   "metadata": {},
   "source": [
    "### Exploratory Data Analysis (EDA)"
   ]
  },
  {
   "cell_type": "markdown",
   "id": "6f360526-b0a9-4757-ac8d-ce999f159d78",
   "metadata": {},
   "source": [
    "#### Initial Data Shape and Info"
   ]
  },
  {
   "cell_type": "code",
   "execution_count": 4,
   "id": "dbefa6f4-56a1-46df-9123-2d3b115b544b",
   "metadata": {},
   "outputs": [
    {
     "name": "stdout",
     "output_type": "stream",
     "text": [
      "Initial Data Shape and Info\n",
      "Shape: (100000, 13)\n",
      "<class 'pandas.core.frame.DataFrame'>\n",
      "RangeIndex: 100000 entries, 0 to 99999\n",
      "Data columns (total 13 columns):\n",
      " #   Column                 Non-Null Count   Dtype  \n",
      "---  ------                 --------------   -----  \n",
      " 0   Transaction_ID         100000 non-null  object \n",
      " 1   Transaction_Time       100000 non-null  object \n",
      " 2   Transaction_Type       100000 non-null  object \n",
      " 3   Sender_ID              100000 non-null  object \n",
      " 4   Amount_ETB             100000 non-null  float64\n",
      " 5   System_Fee_ETB         100000 non-null  float64\n",
      " 6   Sender_Region          100000 non-null  object \n",
      " 7   Receiver_Region        100000 non-null  object \n",
      " 8   Is_Cross_Region        100000 non-null  int64  \n",
      " 9   Receiver_ID            100000 non-null  object \n",
      " 10  Billing_System_Status  100000 non-null  object \n",
      " 11  Is_Fraud               100000 non-null  int64  \n",
      " 12  Fraud_Vector           803 non-null     object \n",
      "dtypes: float64(2), int64(2), object(9)\n",
      "memory usage: 9.9+ MB\n",
      "None\n",
      "\n",
      "Summary Statistics for Amount_ETB\n",
      "count    100000.000000\n",
      "mean       4777.318911\n",
      "std        4132.950452\n",
      "min          10.000000\n",
      "25%        1421.907500\n",
      "50%        3705.345000\n",
      "75%        7260.622500\n",
      "max       14999.820000\n",
      "Name: Amount_ETB, dtype: float64\n",
      "\n",
      " Distribution of Target Variable (Is_Fraud) \n",
      "          Percentage\n",
      "Is_Fraud            \n",
      "0             99.197\n",
      "1              0.803\n"
     ]
    }
   ],
   "source": [
    "import pandas as pd\n",
    "import numpy as np\n",
    "\n",
    "# Load the NEWLY generated dataset (V3)\n",
    "df = pd.read_csv('safaricom_ethiopia_dfs_regional_assurance_data_V3.csv')\n",
    "\n",
    "print(\"Initial Data Shape and Info\")\n",
    "print(f\"Shape: {df.shape}\")\n",
    "print(df.info())\n",
    "\n",
    "print(\"\\nSummary Statistics for Amount_ETB\")\n",
    "print(df['Amount_ETB'].describe())\n",
    "\n",
    "print(\"\\n Distribution of Target Variable (Is_Fraud) \")\n",
    "# Check the level of class imbalance\n",
    "print(df['Is_Fraud'].value_counts(normalize=True).mul(100).round(3).rename(\"Percentage\").to_frame())"
   ]
  },
  {
   "cell_type": "markdown",
   "id": "15e05626-98b5-4d15-9089-ada5042e2163",
   "metadata": {},
   "source": [
    "#### Basic Assurance & Regional Insights"
   ]
  },
  {
   "cell_type": "code",
   "execution_count": 7,
   "id": "61f2b411-5a04-48b6-890e-7a007e79d97d",
   "metadata": {},
   "outputs": [
    {
     "name": "stdout",
     "output_type": "stream",
     "text": [
      "\n",
      "A. Fraud/Leakage Rate by Region (Assurance Check) \n",
      "Sender_Region\n",
      "Oromia            0.88\n",
      "Addis Ababa       0.81\n",
      "South Ethiopia    0.62\n",
      "Name: Fraud Rate (%), dtype: float64\n",
      "\n",
      " B. Fraud/Leakage Rate by Billing Status (Leakage Check) \n",
      "Billing_System_Status\n",
      "TIMEOUT         23.01\n",
      "RATING_ERROR    21.04\n",
      "SUCCESS          0.31\n",
      "Name: Fraud Rate (%), dtype: float64\n",
      "\n",
      " C. Transaction Type Risk \n",
      "Transaction_Type\n",
      "Agent_Cash_In       1.15\n",
      "Agent_Cash_Out      1.08\n",
      "P2P_Transfer        1.00\n",
      "Airtime_Purchase    0.00\n",
      "B2C_Payment         0.00\n",
      "Bill_Payment        0.00\n",
      "Name: Fraud Rate (%), dtype: float64\n"
     ]
    }
   ],
   "source": [
    "print(\"\\nA. Fraud/Leakage Rate by Region (Assurance Check) \")\n",
    "regional_fraud_rates = df.groupby('Sender_Region')['Is_Fraud'].mean().mul(100).round(2).sort_values(ascending=False)\n",
    "print(regional_fraud_rates.rename(\"Fraud Rate (%)\"))\n",
    "\n",
    "print(\"\\n B. Fraud/Leakage Rate by Billing Status (Leakage Check) \")\n",
    "billing_status_fraud_rates = df.groupby('Billing_System_Status')['Is_Fraud'].mean().mul(100).round(2).sort_values(ascending=False)\n",
    "print(billing_status_fraud_rates.rename(\"Fraud Rate (%)\"))\n",
    "\n",
    "print(\"\\n C. Transaction Type Risk \")\n",
    "txn_type_fraud_rates = df.groupby('Transaction_Type')['Is_Fraud'].mean().mul(100).round(2).sort_values(ascending=False)\n",
    "print(txn_type_fraud_rates.rename(\"Fraud Rate (%)\"))"
   ]
  },
  {
   "cell_type": "markdown",
   "id": "e587ab95-3e33-47cc-aec7-228da0538ffd",
   "metadata": {},
   "source": [
    "#### 2: Creating Behavioral/Velocity Features"
   ]
  },
  {
   "cell_type": "code",
   "execution_count": 18,
   "id": "8a915e2f-5952-429a-8e45-9413c9e77e37",
   "metadata": {},
   "outputs": [
    {
     "name": "stdout",
     "output_type": "stream",
     "text": [
      "Feature 1 (Txn_Count_Sender_1H) calculated and safely cast.\n",
      "Feature 2 (Agent_Cust_Pair_Count_7D) calculated and safely cast.\n",
      "Feature 3 (Is_Night_Time_Txn) calculated.\n",
      "\n",
      "--- Features Created and Sample Output ---\n",
      "     Transaction_Time   Sender_ID Transaction_Type  Amount_ETB  \\\n",
      "0 2025-01-01 00:00:00  CUST003417    Agent_Cash_In     7175.01   \n",
      "1 2025-01-01 00:01:00  CUST003884    Agent_Cash_In    13717.43   \n",
      "2 2025-01-01 00:01:00  CUST000380    Agent_Cash_In     2007.56   \n",
      "3 2025-01-01 00:01:00  CUST010227     P2P_Transfer      167.74   \n",
      "4 2025-01-01 00:01:00  CUST006125      B2C_Payment     3092.24   \n",
      "5 2025-01-01 00:01:00  CUST010935   Agent_Cash_Out    10837.41   \n",
      "6 2025-01-01 00:02:00  CUST004992     P2P_Transfer     4957.07   \n",
      "7 2025-01-01 00:02:00  CUST003217   Agent_Cash_Out     7689.27   \n",
      "8 2025-01-01 00:02:00  CUST010292     P2P_Transfer     4051.61   \n",
      "9 2025-01-01 00:02:00  CUST010151     P2P_Transfer      160.62   \n",
      "\n",
      "   Txn_Count_Sender_1H  Agent_Cust_Pair_Count_7D  Is_Night_Time_Txn  Is_Fraud  \n",
      "0                    0                         0                  1         0  \n",
      "1                    0                         0                  1         0  \n",
      "2                    0                         0                  1         0  \n",
      "3                    0                         0                  1         0  \n",
      "4                    0                         0                  1         0  \n",
      "5                    0                         0                  1         0  \n",
      "6                    0                         0                  1         0  \n",
      "7                    0                         0                  1         0  \n",
      "8                    0                         0                  1         0  \n",
      "9                    0                         0                  1         0  \n",
      "\n",
      "--- Enriched Dataset saved to safaricom_ethiopia_dfs_enriched_data_V10_final.csv ---\n"
     ]
    }
   ],
   "source": [
    "import pandas as pd\n",
    "import numpy as np\n",
    "\n",
    "# Load the dataset\n",
    "df = pd.read_csv('safaricom_ethiopia_dfs_regional_assurance_data_V3.csv') \n",
    "df['Transaction_Time'] = pd.to_datetime(df['Transaction_Time'])\n",
    "df = df.sort_values(by='Transaction_Time').reset_index(drop=True)\n",
    "\n",
    "# --- 1. Feature: Time-Based Transaction Volume (Velocity) ---\n",
    "\n",
    "def calculate_rolling_velocity(group):\n",
    "    # Set Transaction_Time as the index for time-based operations\n",
    "    group_indexed = group.set_index('Transaction_Time')\n",
    "    # Create a series of 1s for counting, ensure float type\n",
    "    counts_series = pd.Series(1.0, index=group_indexed.index)\n",
    "    # Calculate rolling count with closed='left' to exclude current transaction\n",
    "    counts = counts_series.rolling('60Min', closed='left').count()\n",
    "    return counts\n",
    "\n",
    "velocity_results = []\n",
    "\n",
    "for _, group in df.groupby('Sender_ID'):\n",
    "    counts_series = calculate_rolling_velocity(group)\n",
    "    # Align the results with the original group indices\n",
    "    group_indices = group.index\n",
    "    velocity_results.append(pd.Series(counts_series.values, index=group_indices, dtype=np.float64))\n",
    "\n",
    "# Concatenate all results\n",
    "final_velocity = pd.concat(velocity_results).sort_index()\n",
    "\n",
    "# Fill NaNs with 0.0, then convert to nullable integer type\n",
    "df['Txn_Count_Sender_1H'] = final_velocity.reindex(df.index).fillna(0.0).astype('Int64')\n",
    "\n",
    "print(\"Feature 1 (Txn_Count_Sender_1H) calculated and safely cast.\")\n",
    "\n",
    "# --- 2. Feature: Agent Transaction Concentration (Collusion Risk) ---\n",
    "agent_cash_out_df = df[df['Transaction_Type'] == 'Agent_Cash_Out'].copy()\n",
    "agent_cash_out_df['Agent_Cust_Pair'] = agent_cash_out_df['Sender_ID'].astype(str) + '_' + agent_cash_out_df['Receiver_ID'].astype(str)\n",
    "\n",
    "# Initialize the result Series as float\n",
    "agent_pair_counts = pd.Series(0.0, index=df.index, dtype=np.float64)\n",
    "\n",
    "for pair, group in agent_cash_out_df.groupby('Agent_Cust_Pair'):\n",
    "    group_indexed = group.set_index('Transaction_Time').sort_index()\n",
    "    \n",
    "    # Create a series of 1s for counting\n",
    "    counts_series = pd.Series(1.0, index=group_indexed.index)\n",
    "    \n",
    "    # Calculate the rolling count and ensure it is float64\n",
    "    counts = counts_series.rolling('7D', closed='left').count()\n",
    "    \n",
    "    # Assign results back to the corresponding indices in the main result Series\n",
    "    agent_pair_counts.loc[group.index] = counts.values.astype(np.float64)\n",
    "\n",
    "# Fill NaNs with 0.0, then convert to nullable integer type\n",
    "df['Agent_Cust_Pair_Count_7D'] = agent_pair_counts.fillna(0.0).astype('Int64')\n",
    "\n",
    "# Drop the temporary pair key column\n",
    "df.drop(columns=['Agent_Cust_Pair'], inplace=True, errors='ignore')\n",
    "\n",
    "print(\"Feature 2 (Agent_Cust_Pair_Count_7D) calculated and safely cast.\")\n",
    "\n",
    "# --- 3. Feature: Behavioral (Night-Time Transaction Risk) ---\n",
    "df['Is_Night_Time_Txn'] = df['Transaction_Time'].dt.hour.apply(lambda x: 1 if x >= 22 or x <= 5 else 0)\n",
    "\n",
    "print(\"Feature 3 (Is_Night_Time_Txn) calculated.\")\n",
    "\n",
    "print(\"\\n--- Features Created and Sample Output ---\")\n",
    "print(df[['Transaction_Time', 'Sender_ID', 'Transaction_Type', 'Amount_ETB', 'Txn_Count_Sender_1H', 'Agent_Cust_Pair_Count_7D', 'Is_Night_Time_Txn', 'Is_Fraud']].head(10))\n",
    "\n",
    "# Save the enriched dataset for the next phase\n",
    "df.to_csv('safaricom_ethiopia_dfs_enriched_data_V10_final.csv', index=False)\n",
    "print(\"\\n--- Enriched Dataset saved to safaricom_ethiopia_dfs_enriched_data_V10_final.csv ---\")"
   ]
  },
  {
   "cell_type": "code",
   "execution_count": null,
   "id": "f67c8430-c367-4665-8704-985eff7dde5b",
   "metadata": {},
   "outputs": [],
   "source": []
  }
 ],
 "metadata": {
  "kernelspec": {
   "display_name": "Python 3 (ipykernel)",
   "language": "python",
   "name": "python3"
  },
  "language_info": {
   "codemirror_mode": {
    "name": "ipython",
    "version": 3
   },
   "file_extension": ".py",
   "mimetype": "text/x-python",
   "name": "python",
   "nbconvert_exporter": "python",
   "pygments_lexer": "ipython3",
   "version": "3.11.4"
  }
 },
 "nbformat": 4,
 "nbformat_minor": 5
}
